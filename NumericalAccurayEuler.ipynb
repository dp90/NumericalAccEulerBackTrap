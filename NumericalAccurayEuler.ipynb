{
 "cells": [
  {
   "cell_type": "markdown",
   "metadata": {},
   "source": [
    "# Exercise numerical accuracy\n",
    "Various methods (backward and trapezoidal Euler) applied to model the development of electric current over time, focussing on the numerical accuracy of the applied methods, for example for different time steps"
   ]
  },
  {
   "cell_type": "code",
   "execution_count": 1,
   "metadata": {},
   "outputs": [],
   "source": [
    "import numpy as np\n",
    "import matplotlib.pyplot as plt\n",
    "%matplotlib inline"
   ]
  },
  {
   "cell_type": "code",
   "execution_count": 2,
   "metadata": {},
   "outputs": [],
   "source": [
    "# Definition of function that shows electric current over time\n",
    "def Icurrent(N,h,dt,printTable=True):\n",
    "    t = dt\n",
    "    N = int(N)\n",
    "    data = np.zeros((2,N))\n",
    "    L = 0.2\n",
    "    for i in range(N-1):\n",
    "        V = 2.0*np.cos(2*t)\n",
    "        q = h*np.array([0,V/L])\n",
    "        A = np.array([[0,1],[-6666667,-6e3]])\n",
    "        I = np.array([[1,0], [0,1]])\n",
    "        B = I-h*A\n",
    "        b = np.add(data[:,i], q)\n",
    "        data[:,i+1] = np.linalg.solve(B, b)\n",
    "        t+= dt\n",
    "    t_array = np.linspace(0,1,N)\n",
    "    \n",
    "    plt.figure()\n",
    "    plt.plot(t_array,data[0,:],'r')\n",
    "    plt.legend((\"$y_1$\", \"$y_2$\"),\n",
    "               loc=\"upper right\", shadow=True)\n",
    "    plt.xlabel(\"$t$\")\n",
    "    plt.ylabel(\"$y$\")\n",
    "    plt.title(\"Graph of $y_1$\")\n",
    "    \n",
    "    if printTable == True:\n",
    "        table = \" index   t            I             \\n\"\n",
    "        for k in range(0,N):\n",
    "            table = table + \"{:4d} {:6.1f}: {:17.7e}\\n\".format(\n",
    "                k,t_array[k],data[0,k],data[1,k])\n",
    "        return table\n",
    "    \n",
    "    else:\n",
    "        return \"\""
   ]
  },
  {
   "cell_type": "code",
   "execution_count": 3,
   "metadata": {},
   "outputs": [
    {
     "name": "stdout",
     "output_type": "stream",
     "text": [
      "\n"
     ]
    },
    {
     "data": {
      "image/png": "[encoded data removed]",
      "text/plain": [
       "<Figure size 432x288 with 1 Axes>"
      ]
     },
     "metadata": {
      "needs_background": "light"
     },
     "output_type": "display_data"
    }
   ],
   "source": [
    "# Specify parameters\n",
    "h = 0.1\n",
    "dt = 0.025\n",
    "t_end = 1.025\n",
    "N = int(t_end / dt)\n",
    "\n",
    "print(Icurrent(N,h,dt,False))"
   ]
  },
  {
   "cell_type": "code",
   "execution_count": 4,
   "metadata": {},
   "outputs": [
    {
     "name": "stdout",
     "output_type": "stream",
     "text": [
      "Wh =  -1.484537109301864e-06\n",
      "W2h =  -1.4844709035513718e-06\n",
      "The accuracy E =  -6.620575049228559e-11\n"
     ]
    }
   ],
   "source": [
    "# Check of the accuracy for different time step sizes\n",
    "\n",
    "def Icurrent2(N,h,t):\n",
    "    data = np.zeros((2,N+1))\n",
    "    L = 0.2\n",
    "    for i in range(N):\n",
    "        V = 2.0*np.cos(2*t)\n",
    "        q = h*np.array([0,V/L])\n",
    "        A = np.array([[0,1],[-6666667,-6e3]])\n",
    "        I = np.array([[1,0], [0,1]])\n",
    "        B = I-h*A\n",
    "        b = np.add(data[:,i], q)\n",
    "        data[:,i+1] = np.linalg.solve(B, b)\n",
    "        t+= h\n",
    "    return data[0,-1]\n",
    "print ('Wh = ',Icurrent2(60,0.025,0.025))\n",
    "print ('W2h = ',Icurrent2(30,0.05,0.05))\n",
    "\n",
    "def Accuracy(alpha,wh,w2h):\n",
    "    E = alpha*(wh-w2h)\n",
    "    return E\n",
    "print ('The accuracy E = ', Accuracy(1,Icurrent2(60,0.025,0.025),Icurrent2(30,0.05,0.05)))"
   ]
  },
  {
   "cell_type": "code",
   "execution_count": 5,
   "metadata": {},
   "outputs": [
    {
     "name": "stderr",
     "output_type": "stream",
     "text": [
      "D:\\Programs\\lib\\site-packages\\IPython\\html.py:14: ShimWarning: The `IPython.html` package has been deprecated since IPython 4.0. You should import from `notebook` instead. `IPython.html.widgets` has moved to `ipywidgets`.\n",
      "  \"`IPython.html.widgets` has moved to `ipywidgets`.\", ShimWarning)\n"
     ]
    },
    {
     "data": {
      "application/vnd.jupyter.widget-view+json": {
       "model_id": "d17b62a3437a4458bda39252a6e616bd",
       "version_major": 2,
       "version_minor": 0
      },
      "text/plain": [
       "interactive(children=(FloatSlider(value=1.5e-06, description='a', max=4.5e-06, min=-1.5e-06), FloatSlider(valu…"
      ]
     },
     "metadata": {},
     "output_type": "display_data"
    }
   ],
   "source": [
    "# To play with different settings of a sine function to see the similarity with the electric current signal\n",
    "from IPython.html.widgets import interact\n",
    "\n",
    "def Icurrent3(N,h,t):\n",
    "    data = np.zeros((2,N))\n",
    "    L = 0.2\n",
    "    for i in range(N-1):\n",
    "        V = 2.0*np.cos(2*t)\n",
    "        q = h*np.array([0,V/L])\n",
    "        A = np.array([[0,1],[-6666667,-6e3]])\n",
    "        I = np.array([[1,0], [0,1]])\n",
    "        B = I-h*A\n",
    "        b = np.add(data[:,i], q)\n",
    "        data[:,i+1] = np.linalg.solve(B, b)\n",
    "        t+= h\n",
    "    return data[0]\n",
    "\n",
    "def sinfunc(a,omega,phi):\n",
    "    x = np.linspace(0,25,500)\n",
    "    y = a * np.sin(omega*x + phi)\n",
    "    plt.plot(x,y)\n",
    "    t = np.linspace(0,10,400)\n",
    "    plt.plot(t,Icurrent3(400,0.025,0.025))\n",
    "    plt.xlim(0,10)\n",
    "\n",
    "interact(sinfunc,\n",
    "         a = 0.0000015,\n",
    "         omega = (0.2,6.0,0.1),\n",
    "         phi = (0.0,0.5*np.pi));\n"
   ]
  },
  {
   "cell_type": "code",
   "execution_count": 6,
   "metadata": {},
   "outputs": [
    {
     "data": {
      "application/vnd.jupyter.widget-view+json": {
       "model_id": "08a94494285145db8dfa7e961063d0be",
       "version_major": 2,
       "version_minor": 0
      },
      "text/plain": [
       "interactive(children=(FloatSlider(value=1.5e-06, description='a', max=4.5e-06, min=-1.5e-06), FloatSlider(valu…"
      ]
     },
     "metadata": {},
     "output_type": "display_data"
    }
   ],
   "source": [
    "def sinfunc1(a,omega,phi):\n",
    "    x = np.linspace(0,25,500)\n",
    "    y = a * np.sin(omega*x + phi)\n",
    "    plt.plot(x,y)\n",
    "    t = np.linspace(0,0.5,20)\n",
    "    plt.plot(t,Icurrent3(20,0.025,0.025))\n",
    "    plt.xlim(0,0.5)\n",
    "\n",
    "\n",
    "interact(sinfunc1,\n",
    "         a = 0.0000015,\n",
    "         omega = (0.2,6.0,0.1),\n",
    "         phi = (0.0,0.5*np.pi));\n"
   ]
  },
  {
   "cell_type": "code",
   "execution_count": 7,
   "metadata": {},
   "outputs": [
    {
     "data": {
      "image/png": "[encoded data removed]",
      "text/plain": [
       "<Figure size 432x288 with 1 Axes>"
      ]
     },
     "metadata": {
      "needs_background": "light"
     },
     "output_type": "display_data"
    },
    {
     "name": "stdout",
     "output_type": "stream",
     "text": [
      "\n"
     ]
    },
    {
     "data": {
      "image/png": "[encoded data removed]",
      "text/plain": [
       "<Figure size 432x288 with 1 Axes>"
      ]
     },
     "metadata": {
      "needs_background": "light"
     },
     "output_type": "display_data"
    },
    {
     "name": "stdout",
     "output_type": "stream",
     "text": [
      "\n"
     ]
    }
   ],
   "source": [
    "import numpy as np\n",
    "import matplotlib.pyplot as plt\n",
    "\n",
    "def Icurrent4(N,h,f,t=0.025):\n",
    "    data = np.zeros((2,N))\n",
    "    L = 0.2\n",
    "    for i in range(N-1):\n",
    "        V = 2.0*np.cos(2*t)\n",
    "        q = h*np.array([0,V/L])\n",
    "        A = np.array([[0,1],[-6666667,-6e3]])\n",
    "        I = np.array([[1,0], [0,1]])\n",
    "        B = I-(h/2.)*A\n",
    "        C = np.dot((h/2.)*A,data[:,i])\n",
    "        g = np.add(data[:,i], q)\n",
    "        b = np.add(g,C)\n",
    "        data[:,i+1] = np.linalg.solve(B, b)\n",
    "        t+= 0.025\n",
    "    t_array = np.linspace(0,f,N)\n",
    "    \n",
    "    plt.figure()\n",
    "    plt.plot(t_array,data[0,:],'r')\n",
    "    plt.legend((\"$y_1$\", \"$y_2$\"),\n",
    "               loc=\"upper right\", shadow=True)\n",
    "    plt.xlabel(\"$t$\")\n",
    "    plt.ylabel(\"$y$\")\n",
    "    plt.title(\"Graphs of $y_1$\")\n",
    "    plt.show()\n",
    "    return \"\"\n",
    "\n",
    "print (Icurrent4(400,0.025,10))\n",
    "print (Icurrent4(20,0.025,0.5))"
   ]
  },
  {
   "cell_type": "code",
   "execution_count": 8,
   "metadata": {},
   "outputs": [
    {
     "name": "stdout",
     "output_type": "stream",
     "text": [
      "Wh =  -1.415527580749566e-06\n",
      "W2h =  -1.507388903273513e-06\n",
      "The accuracy =  3.112752320385182e-08\n"
     ]
    }
   ],
   "source": [
    "def Icurrent2(N,h,t):\n",
    "    data = np.zeros((2,N+1))\n",
    "    R = 1200.\n",
    "    L = 0.2\n",
    "    C=75e-8\n",
    "    A = np.array([[0,1],[-1/(C*L),-R/L]])\n",
    "    I = np.array([[1,0], [0,1]])\n",
    "    B = I-(h/2.)*A\n",
    "    for i in range(N):\n",
    "        V1 = 2.0*np.cos(2*t)\n",
    "        V2 = 2.0*np.cos(2*(t+h))\n",
    "        q1 =np.array([0,V1/L])\n",
    "        q2 =np.array([0,V2/L])\n",
    "        W = A.dot(data[:,i])\n",
    "        b = data[:,i] + (h/2.)*(W+q1+q2)\n",
    "        data[:,i+1] = np.linalg.solve(B,b )\n",
    "        t+= h\n",
    "    return data[0,-1]\n",
    "\n",
    "print ('Wh = ', Icurrent2(60,0.025,0.025+0.025) )\n",
    "print ('W2h = ', Icurrent2(30,0.05,0.05+0.05) )\n",
    "\n",
    "def Accuracy(alpha,wh,w2h):\n",
    "    E = alpha*(wh-w2h)\n",
    "    return E\n",
    "print ('The accuracy = ', Accuracy((1/3.),Icurrent2(60,0.025,0.0),Icurrent2(30,0.05,0.0)) )\n"
   ]
  },
  {
   "cell_type": "code",
   "execution_count": 9,
   "metadata": {},
   "outputs": [
    {
     "data": {
      "text/plain": [
       "<matplotlib.legend.Legend at 0xc9a4342e80>"
      ]
     },
     "execution_count": 9,
     "metadata": {},
     "output_type": "execute_result"
    },
    {
     "data": {
      "image/png": "[encoded data removed]",
      "text/plain": [
       "<Figure size 432x288 with 1 Axes>"
      ]
     },
     "metadata": {
      "needs_background": "light"
     },
     "output_type": "display_data"
    }
   ],
   "source": [
    "# Error convergence for different timesteps and numerical derivation schemes. \n",
    "\n",
    "def QBE(hlabda):\n",
    "    z = 1/(1-hlabda)\n",
    "    return z\n",
    "\n",
    "def QTrap(hlabda):\n",
    "    z = (1 + hlabda/2)/(1 - hlabda/2)\n",
    "    return z\n",
    "\n",
    "\n",
    "hlabda = np.linspace(-125,0,1000)\n",
    "plt.plot(hlabda,QBE(hlabda), 'b', label='Backward Euler')\n",
    "plt.plot(hlabda,QTrap(hlabda), 'r', label='Trapezoidal Method')\n",
    "plt.legend(loc=2)"
   ]
  },
  {
   "cell_type": "code",
   "execution_count": null,
   "metadata": {},
   "outputs": [],
   "source": []
  }
 ],
 "metadata": {
  "kernelspec": {
   "display_name": "Python 3",
   "language": "python",
   "name": "python3"
  },
  "language_info": {
   "codemirror_mode": {
    "name": "ipython",
    "version": 3
   },
   "file_extension": ".py",
   "mimetype": "text/x-python",
   "name": "python",
   "nbconvert_exporter": "python",
   "pygments_lexer": "ipython3",
   "version": "3.7.0"
  }
 },
 "nbformat": 4,
 "nbformat_minor": 1
}
